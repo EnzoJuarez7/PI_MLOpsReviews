{
 "cells": [
  {
   "cell_type": "code",
   "execution_count": 1,
   "metadata": {},
   "outputs": [],
   "source": [
    "import pandas as pd\n",
    "import numpy as np\n",
    "from sklearn.feature_extraction.text import CountVectorizer\n",
    "from sklearn.metrics.pairwise import cosine_similarity"
   ]
  },
  {
   "attachments": {},
   "cell_type": "markdown",
   "metadata": {},
   "source": [
    "Consultas"
   ]
  },
  {
   "cell_type": "code",
   "execution_count": 2,
   "metadata": {},
   "outputs": [],
   "source": [
    "#@app.get('/get_max_duration/{anio}/{plataforma}/{dtype}')\n",
    "def get_max_duration(anio: int, plataforma: str, dtype: str):\n",
    "    df = pd.read_csv(\"platforms_and_ratings.csv\")\n",
    "\n",
    "    # Filtrar los datos para incluir sólo películas\n",
    "    df_movies = df[df['type'] == 'movie']\n",
    "    \n",
    "    # Filtrar los datos para incluir sólo películas que correspondan al año y la plataforma especificados\n",
    "    df_movies = df_movies[(df_movies['release_year'] == anio) & (df_movies['platform'] == plataforma)]\n",
    "    \n",
    "    # Filtrar los datos para incluir sólo películas con el tipo de duración especificado\n",
    "    df_movies = df_movies[df_movies['duration_type'] == dtype]\n",
    "    \n",
    "    # Ordenar los datos por duración en orden descendente\n",
    "    df_movies = df_movies.sort_values(by='duration_int', ascending=False)\n",
    "    \n",
    "    # Primera fila del dataframe resultante, que tendrá la película con la mayor duración\n",
    "    max_duration_movie = df_movies.iloc[0]['title']\n",
    "    \n",
    "    return {'pelicula': max_duration_movie}"
   ]
  },
  {
   "cell_type": "code",
   "execution_count": 3,
   "metadata": {},
   "outputs": [
    {
     "data": {
      "text/plain": [
       "{'pelicula': 'kanchana'}"
      ]
     },
     "execution_count": 3,
     "metadata": {},
     "output_type": "execute_result"
    }
   ],
   "source": [
    "get_max_duration(2011,'amazon','min')"
   ]
  },
  {
   "cell_type": "code",
   "execution_count": 4,
   "metadata": {},
   "outputs": [],
   "source": [
    "#@app.get('/get_score_count/{plataforma}/{scored}/{anio}')\n",
    "def get_score_count(plataforma: str, scored: float, anio: int):\n",
    "    df = pd.read_csv(\"platforms_and_ratings.csv\")\n",
    "\n",
    "    # Filtrar los datos para incluir sólo películas\n",
    "    df_movies = df[df['type'] == 'movie']\n",
    "    \n",
    "    # Filtrar los datos para incluir sólo películas que correspondan al año y la plataforma especificados\n",
    "    df_movies = df_movies[(df_movies['release_year'] == anio) & (df_movies['platform'] == plataforma)]\n",
    "    \n",
    "    # Filtrar los datos para incluir sólo películas con un puntaje mayor que el puntaje especificado\n",
    "    df_movies = df_movies[df_movies['score_mean'] > scored]\n",
    "    \n",
    "    # Contar el número de filas en el dataframe \n",
    "    count = len(df_movies)\n",
    "    \n",
    "    return {\n",
    "        'plataforma': plataforma,\n",
    "        'cantidad': count,\n",
    "        'anio': anio,\n",
    "        'score': scored\n",
    "    }"
   ]
  },
  {
   "cell_type": "code",
   "execution_count": 5,
   "metadata": {},
   "outputs": [
    {
     "data": {
      "text/plain": [
       "{'plataforma': 'disney', 'cantidad': 29, 'anio': 2012, 'score': 1.4}"
      ]
     },
     "execution_count": 5,
     "metadata": {},
     "output_type": "execute_result"
    }
   ],
   "source": [
    "get_score_count('disney',1.4,2012)"
   ]
  },
  {
   "cell_type": "code",
   "execution_count": 6,
   "metadata": {},
   "outputs": [],
   "source": [
    "#@app.get('/get_count_platform/{plataforma}')\n",
    "def get_count_platform(plataforma: str):\n",
    "    df = pd.read_csv(\"platforms_and_ratings.csv\")\n",
    "\n",
    "    # Filtrar los datos para incluir sólo películas\n",
    "    df_movies = df[df['type'] == 'movie']\n",
    "    \n",
    "    # Filtrar los datos para incluir sólo películas que correspondan a la plataforma especificada\n",
    "    if plataforma == 'amazon':\n",
    "        df_movies = df_movies[df_movies['platform'] == 'amazon']\n",
    "    elif plataforma == 'netflix':\n",
    "        df_movies = df_movies[df_movies['platform'] == 'netflix']\n",
    "    elif plataforma == 'hulu':\n",
    "        df_movies = df_movies[df_movies['platform'] == 'hulu']\n",
    "    elif plataforma == 'disney':\n",
    "        df_movies = df_movies[df_movies['platform'] == 'disney']\n",
    "    else:\n",
    "        return {'error': 'Plataforma no reconocida'}\n",
    "    \n",
    "    # Contar el número de filas en el dataframe \n",
    "    count = len(df_movies)\n",
    "    \n",
    "    return {'plataforma': plataforma, 'peliculas': count}"
   ]
  },
  {
   "cell_type": "code",
   "execution_count": 7,
   "metadata": {},
   "outputs": [
    {
     "data": {
      "text/plain": [
       "{'plataforma': 'hulu', 'peliculas': 1484}"
      ]
     },
     "execution_count": 7,
     "metadata": {},
     "output_type": "execute_result"
    }
   ],
   "source": [
    "get_count_platform('hulu')"
   ]
  },
  {
   "cell_type": "code",
   "execution_count": 8,
   "metadata": {},
   "outputs": [],
   "source": [
    "#@app.get('/get_actor/{plataforma}/{anio}')\n",
    "def get_actor(plataforma: str, anio: int):\n",
    "    df = pd.read_csv(\"platforms_and_ratings.csv\")\n",
    "\n",
    "   # Filtrar por plataforma y año\n",
    "    df_filtered = df[(df['platform'] == plataforma) & (df['release_year'] == anio)]\n",
    "\n",
    "    # Dividir la columna cast en listas de actores, y manejar NaN\n",
    "    df_filtered.loc[:, 'cast'] = df_filtered['cast'].apply(lambda x: [] if pd.isna(x) else x.split(', '))\n",
    "\n",
    "    # Crear una lista con todos los actores en el DataFrame\n",
    "    all_actors = [actor for cast_list in df_filtered['cast'] for actor in cast_list]\n",
    "\n",
    "    # Obtener el actor que más se repite\n",
    "    actor_counts = pd.Series(all_actors).value_counts()\n",
    "    most_common_actor = actor_counts.index[0]\n",
    "    most_common_actor_appearances = actor_counts[0]\n",
    "\n",
    "    return {\n",
    "        'plataforma': plataforma,\n",
    "        'anio': anio,\n",
    "        'actor': most_common_actor,\n",
    "        'apariciones': most_common_actor_appearances\n",
    "    }\n"
   ]
  },
  {
   "cell_type": "code",
   "execution_count": 9,
   "metadata": {},
   "outputs": [
    {
     "name": "stderr",
     "output_type": "stream",
     "text": [
      "C:\\Users\\Usuario\\AppData\\Local\\Temp\\ipykernel_7376\\2247508944.py:9: SettingWithCopyWarning: \n",
      "A value is trying to be set on a copy of a slice from a DataFrame.\n",
      "Try using .loc[row_indexer,col_indexer] = value instead\n",
      "\n",
      "See the caveats in the documentation: https://pandas.pydata.org/pandas-docs/stable/user_guide/indexing.html#returning-a-view-versus-a-copy\n",
      "  df_filtered.loc[:, 'cast'] = df_filtered['cast'].apply(lambda x: [] if pd.isna(x) else x.split(', '))\n"
     ]
    },
    {
     "data": {
      "text/plain": [
       "{'plataforma': 'netflix',\n",
       " 'anio': 2014,\n",
       " 'actor': 'miyuki sawashiro',\n",
       " 'apariciones': 5}"
      ]
     },
     "execution_count": 9,
     "metadata": {},
     "output_type": "execute_result"
    }
   ],
   "source": [
    "get_actor('netflix',2014)"
   ]
  },
  {
   "cell_type": "code",
   "execution_count": 10,
   "metadata": {},
   "outputs": [],
   "source": [
    "#@app.get('/prod_per_county/{tipo}/{pais}/{anio}')\n",
    "def prod_per_county(tipo: str, pais: str, anio: int):\n",
    "    df = pd.read_csv(\"platforms_and_ratings.csv\")\n",
    "\n",
    "    # Filtrar por tipo de contenido, país y año\n",
    "    df_filt = df[(df['type'] == tipo) & (df['country'] == pais) & (df['release_year'] == anio)]\n",
    "\n",
    "    # Agrupar por país, año y tipo de contenido\n",
    "    grouped = df_filt.groupby(['country', 'release_year', 'type'])\n",
    "\n",
    "    # Contar el número de películas o series por grupo\n",
    "    count = grouped['title'].count().reset_index(name='count')\n",
    "\n",
    "    # Obtener el número de películas o series según el tipo especificado\n",
    "    result = count[count['type'] == tipo]['count'].values[0]\n",
    "    \n",
    "    return {'pais': pais, 'anio': anio, tipo: result}\n"
   ]
  },
  {
   "cell_type": "code",
   "execution_count": 11,
   "metadata": {},
   "outputs": [
    {
     "data": {
      "text/plain": [
       "{'pais': 'france', 'anio': 2018, 'tv show': 12}"
      ]
     },
     "execution_count": 11,
     "metadata": {},
     "output_type": "execute_result"
    }
   ],
   "source": [
    "prod_per_county('tv show','france',2018)"
   ]
  },
  {
   "cell_type": "code",
   "execution_count": 12,
   "metadata": {},
   "outputs": [],
   "source": [
    "#@app.get('/get_contents/{rating}')\n",
    "def get_contents(rating: str):\n",
    "    df = pd.read_csv(\"platforms_and_ratings.csv\")\n",
    "\n",
    "    # Cuenta el número de filas donde el valor de la columna \"rating\" es igual a la entrada \"rating\"\n",
    "    count = len(df[df['rating'] == rating])\n",
    "    \n",
    "    return {'rating': rating, 'contenido': count}"
   ]
  },
  {
   "cell_type": "code",
   "execution_count": 13,
   "metadata": {},
   "outputs": [
    {
     "data": {
      "text/plain": [
       "{'rating': '18+', 'contenido': 1243}"
      ]
     },
     "execution_count": 13,
     "metadata": {},
     "output_type": "execute_result"
    }
   ],
   "source": [
    "get_contents('18+')"
   ]
  },
  {
   "attachments": {},
   "cell_type": "markdown",
   "metadata": {},
   "source": [
    "Sistema de recomendación"
   ]
  },
  {
   "cell_type": "code",
   "execution_count": 14,
   "metadata": {},
   "outputs": [],
   "source": [
    "#@app.get('/get_recomendation/{title}')\n",
    "def get_recomendation(title:str):\n",
    "    df = pd.read_csv(\"platforms_and_ratings.csv\")\n",
    "\n",
    "    # Crear una instancia del vectorizador TF-IDF\n",
    "    vectorizer = CountVectorizer(stop_words=\"english\")\n",
    "\n",
    "    # Obtener la matriz de términos de los títulos\n",
    "    title_matrix = vectorizer.fit_transform(df[\"title\"])\n",
    "\n",
    "    # Calcular la similitud coseno entre todos los títulos\n",
    "    cosine_similarities = cosine_similarity(title_matrix)\n",
    "\n",
    "    # Obtener el índice de la película de interés\n",
    "    idx = df.index[df['title'] == title].tolist()[0]\n",
    "\n",
    "    # Obtener las puntuaciones de similitud de esa película con todas las películas\n",
    "    similarity_scores = list(enumerate(cosine_similarities[idx]))\n",
    "\n",
    "    # Ordenar las películas según puntuación de similitud\n",
    "    similarity_scores = sorted(similarity_scores, key=lambda x: x[1], reverse=True)\n",
    "\n",
    "    # Obtener los índices de las películas recomendadas\n",
    "    movie_indices = [i[0] for i in similarity_scores[1:11]]\n",
    "\n",
    "    # Recomendaciones\n",
    "    recommendations = df.loc[movie_indices, \"title\"].tolist()[:5]\n",
    "    return {'recomendación': recommendations}"
   ]
  },
  {
   "cell_type": "code",
   "execution_count": 15,
   "metadata": {},
   "outputs": [
    {
     "data": {
      "text/plain": [
       "0                        ricky velez: here's everything\n",
       "1                                          silent night\n",
       "2                                          the marksman\n",
       "3                                                  gaia\n",
       "4                                              settlers\n",
       "5                         the halloween candy magic pet\n",
       "6                                    the evil next door\n",
       "7                                the next thing you eat\n",
       "8                                                queens\n",
       "9                                      the bachelorette\n",
       "10    the real queens of hip-hop: the women who chan...\n",
       "11                                          dream horse\n",
       "12    out of the shadows: the man behind the steele ...\n",
       "13                                            wakefield\n",
       "14                                      home sweet home\n",
       "15    showtime championship boxing: lopez vs. salido...\n",
       "16      showtime championship boxing: wilder vs. molina\n",
       "17                            america's book of secrets\n",
       "18                                    beyond oak island\n",
       "19                               beyond scared straight\n",
       "20                                    cheer camp killer\n",
       "21                                             hoarders\n",
       "22                                little women: atlanta\n",
       "23                                    marrying millions\n",
       "24                                           nightwatch\n",
       "25                                    seven year switch\n",
       "26                                          sleepwalker\n",
       "27                                         swamp people\n",
       "28                                             unsolved\n",
       "29                                       acapulco shore\n",
       "Name: title, dtype: object"
      ]
     },
     "execution_count": 15,
     "metadata": {},
     "output_type": "execute_result"
    }
   ],
   "source": [
    "df = pd.read_csv(\"platforms_and_ratings.csv\")\n",
    "# Observar algunos títulos\n",
    "df.title[0:30]"
   ]
  },
  {
   "cell_type": "code",
   "execution_count": 16,
   "metadata": {},
   "outputs": [
    {
     "data": {
      "text/plain": [
       "{'recomendación': ['the first silent night',\n",
       "  'the night',\n",
       "  'i am the night',\n",
       "  'all night',\n",
       "  'one night']}"
      ]
     },
     "execution_count": 16,
     "metadata": {},
     "output_type": "execute_result"
    }
   ],
   "source": [
    "#Probando el sistema\n",
    "get_recomendation('silent night')"
   ]
  },
  {
   "cell_type": "code",
   "execution_count": 17,
   "metadata": {},
   "outputs": [
    {
     "data": {
      "text/plain": [
       "{'recomendación': ['the marksman',\n",
       "  'lord marksman and vanadis',\n",
       "  \"ricky velez: here's everything\",\n",
       "  'silent night',\n",
       "  'gaia']}"
      ]
     },
     "execution_count": 17,
     "metadata": {},
     "output_type": "execute_result"
    }
   ],
   "source": [
    "#Probando el sistema\n",
    "get_recomendation('the marksman')"
   ]
  },
  {
   "cell_type": "code",
   "execution_count": 18,
   "metadata": {},
   "outputs": [
    {
     "data": {
      "text/plain": [
       "{'recomendación': ['get a horse!',\n",
       "  'can you dream of more',\n",
       "  'horse sense',\n",
       "  \"red's dream\",\n",
       "  'my dream farm']}"
      ]
     },
     "execution_count": 18,
     "metadata": {},
     "output_type": "execute_result"
    }
   ],
   "source": [
    "#Probando el sistema\n",
    "get_recomendation('dream horse')"
   ]
  },
  {
   "cell_type": "code",
   "execution_count": 19,
   "metadata": {},
   "outputs": [
    {
     "data": {
      "text/plain": [
       "{'recomendación': ['sleepwalker',\n",
       "  \"ricky velez: here's everything\",\n",
       "  'silent night',\n",
       "  'the marksman',\n",
       "  'gaia']}"
      ]
     },
     "execution_count": 19,
     "metadata": {},
     "output_type": "execute_result"
    }
   ],
   "source": [
    "#Probando el sistema\n",
    "get_recomendation('sleepwalker')"
   ]
  },
  {
   "cell_type": "code",
   "execution_count": 20,
   "metadata": {},
   "outputs": [
    {
     "data": {
      "text/plain": [
       "{'recomendación': ['camp nowhere',\n",
       "  'killer among us',\n",
       "  'cheer up',\n",
       "  'i am a killer',\n",
       "  'cheer']}"
      ]
     },
     "execution_count": 20,
     "metadata": {},
     "output_type": "execute_result"
    }
   ],
   "source": [
    "#Probando el sistema\n",
    "get_recomendation('cheer camp killer')"
   ]
  }
 ],
 "metadata": {
  "kernelspec": {
   "display_name": "Python 3",
   "language": "python",
   "name": "python3"
  },
  "language_info": {
   "codemirror_mode": {
    "name": "ipython",
    "version": 3
   },
   "file_extension": ".py",
   "mimetype": "text/x-python",
   "name": "python",
   "nbconvert_exporter": "python",
   "pygments_lexer": "ipython3",
   "version": "3.11.1"
  },
  "orig_nbformat": 4
 },
 "nbformat": 4,
 "nbformat_minor": 2
}
